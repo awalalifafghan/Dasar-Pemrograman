{
 "cells": [
  {
   "cell_type": "code",
   "execution_count": 6,
   "id": "3a4ab53e",
   "metadata": {},
   "outputs": [
    {
     "name": "stdout",
     "output_type": "stream",
     "text": [
      "Insert your first nameAwal\n",
      "Insert your middle nameAlif\n",
      "Insert your last nameAfghan\n",
      "Hello  Awal Alif Afghan !!\n"
     ]
    }
   ],
   "source": [
    "first_name = input('Insert your first name')\n",
    "middle_name = input('Insert your middle name')\n",
    "last_name = input('Insert your last name')\n",
    "\n",
    "print(\"Hello \",first_name , middle_name, last_name,\"!!\")\n"
   ]
  },
  {
   "cell_type": "code",
   "execution_count": null,
   "id": "f74f7206",
   "metadata": {},
   "outputs": [],
   "source": []
  },
  {
   "cell_type": "code",
   "execution_count": null,
   "id": "2f9c8aeb",
   "metadata": {},
   "outputs": [],
   "source": []
  },
  {
   "cell_type": "code",
   "execution_count": null,
   "id": "6c2894d6",
   "metadata": {},
   "outputs": [],
   "source": []
  },
  {
   "cell_type": "code",
   "execution_count": 5,
   "id": "c628f588",
   "metadata": {},
   "outputs": [
    {
     "name": "stdout",
     "output_type": "stream",
     "text": [
      "panjang4\n",
      "lebar5\n",
      "luas persegi panjang 20\n",
      "keliling persegi panjang: 18\n"
     ]
    }
   ],
   "source": [
    "#luas => p * l\n",
    "#keliling => 2  * (p+l)\n",
    "\n",
    "panjang = input('panjang')\n",
    "lebar = input('lebar')\n",
    "\n",
    "luas = int(panjang) * int (lebar)\n",
    "keliling = 2 *(int(panjang) + int(lebar))\n",
    "\n",
    "print(\"luas persegi panjang\", luas)\n",
    "print(\"keliling persegi panjang:\", keliling)\n"
   ]
  },
  {
   "cell_type": "markdown",
   "id": "cf679464",
   "metadata": {},
   "source": [
    "<h1>Output Separator</h1>"
   ]
  },
  {
   "cell_type": "code",
   "execution_count": null,
   "id": "002873e3",
   "metadata": {},
   "outputs": [],
   "source": [
    "print(\"28 , november\", \"2024\", sep='_')\n",
    "print(\"28 , november\", \"2024\", sep='_')\n",
    "#28\n",
    "#november\n",
    "#2024\n",
    "\n",
    "print(\"28\")`"
   ]
  },
  {
   "cell_type": "markdown",
   "id": "6db8cda1",
   "metadata": {},
   "source": [
    "<h1>Memformat dengan string</h1>"
   ]
  },
  {
   "cell_type": "markdown",
   "id": "85510ab1",
   "metadata": {},
   "source": [
    "<h1>Memformat dengan key</h1>"
   ]
  },
  {
   "cell_type": "code",
   "execution_count": 8,
   "id": "bf6b91d2",
   "metadata": {},
   "outputs": [
    {
     "name": "stdout",
     "output_type": "stream",
     "text": [
      "Nama-nama bulan januari,september\n"
     ]
    }
   ],
   "source": [
    "bulan1 = \"september\"\n",
    "bulan2 =\"januari\"\n",
    "\n",
    "print(\"Nama-nama bulan {1},{0}\".format(bulan1,bulan2))\n"
   ]
  },
  {
   "cell_type": "markdown",
   "id": "344e2c1e",
   "metadata": {},
   "source": [
    "<h1>Memformat Pengenalan String</h1>"
   ]
  },
  {
   "cell_type": "code",
   "execution_count": 12,
   "id": "781e427d",
   "metadata": {},
   "outputs": [
    {
     "name": "stdout",
     "output_type": "stream",
     "text": [
      "Nama saya Awal Alif Afghan\n"
     ]
    }
   ],
   "source": [
    "print(\"Nama saya {fname} {lname}\".format(fname='Awal Alif',lname='Afghan'))"
   ]
  },
  {
   "cell_type": "code",
   "execution_count": 13,
   "id": "5593fb72",
   "metadata": {},
   "outputs": [
    {
     "name": "stdout",
     "output_type": "stream",
     "text": [
      "u\n",
      "a\n",
      "universitas\n",
      "nusa putra\n",
      "putra\n",
      "artup asun satisrevinu\n"
     ]
    }
   ],
   "source": [
    "kampus = \"universitas nusa putra\"\n",
    "print(kampus[0]) #u\n",
    "print(kampus[-1]) #a\n",
    "\n",
    "#menggunakan range\n",
    "print(kampus[0:11])\n",
    "print(kampus[12:])\n",
    "print(kampus[-5:])\n",
    "print(kampus[::-1])"
   ]
  },
  {
   "cell_type": "markdown",
   "id": "6682e160",
   "metadata": {},
   "source": [
    "<h1>Interpolasi menggunakan F-string</h1>"
   ]
  },
  {
   "cell_type": "code",
   "execution_count": 15,
   "id": "6a167e5b",
   "metadata": {},
   "outputs": [
    {
     "name": "stdout",
     "output_type": "stream",
     "text": [
      "luas persegi = 200\n",
      "keliling persegi =22\n"
     ]
    }
   ],
   "source": [
    "p = 10\n",
    "l = 20\n",
    "\n",
    "print(f'luas persegi = {l*p}')\n",
    "print(f'keliling persegi ={2 *(p+1)}')"
   ]
  },
  {
   "cell_type": "code",
   "execution_count": null,
   "id": "66851619",
   "metadata": {},
   "outputs": [],
   "source": [
    "nama_siswa = \"Andri,Budi,Jamal\"\n",
    "nama_siswa = nama_siswa.upper()\n",
    "print(nama_siswa.split(','))\n",
    "print('@'.join(nama_siswa.split(',')))"
   ]
  },
  {
   "cell_type": "markdown",
   "id": "306a985c",
   "metadata": {},
   "source": [
    "<h1> Tugas</h1>"
   ]
  },
  {
   "cell_type": "code",
   "execution_count": null,
   "id": "38a438c6",
   "metadata": {},
   "outputs": [],
   "source": [
    "#buat program\n",
    "#input nama => Tedi wijaya\n",
    "#input => 18/12/2023\n",
    "\n",
    "#Output\n",
    "#Nama anda :Tedi wijaya\n",
    "#tgl lahir :18\n",
    "#bln lahir :desember\n",
    "#thn lahir :2023\n",
    "#inisal :TW\n",
    "\n",
    "nama = input('masukan nama anda')\n",
    "tgl_lahir = input('masukan tanggal lahir anda')\n",
    "\n",
    "tgls = tgl_lahir.split('/')\n",
    "namas = nama.split()\n",
    "print(f\"Nama anda: {nama}\")\n",
    "print(f\"tgl lahir:{tgls[0]}\" )\n",
    "print(f\"tanggal :{tgl[1]\"}\n",
    "print(f\"bulan :{tgl[1]}\")\n",
    "print(f\"tahun :{tgl[2]}\")\n",
    "print(f\"Inisial :{namas[0][0]}{namas[2][0]}\")"
   ]
  },
  {
   "cell_type": "code",
   "execution_count": null,
   "id": "5aaf7ce5",
   "metadata": {},
   "outputs": [],
   "source": []
  },
  {
   "cell_type": "code",
   "execution_count": null,
   "id": "5c3d743c",
   "metadata": {},
   "outputs": [],
   "source": []
  },
  {
   "cell_type": "code",
   "execution_count": null,
   "id": "d1a9b26a",
   "metadata": {},
   "outputs": [],
   "source": []
  }
 ],
 "metadata": {
  "kernelspec": {
   "display_name": "Python 3 (ipykernel)",
   "language": "python",
   "name": "python3"
  },
  "language_info": {
   "codemirror_mode": {
    "name": "ipython",
    "version": 3
   },
   "file_extension": ".py",
   "mimetype": "text/x-python",
   "name": "python",
   "nbconvert_exporter": "python",
   "pygments_lexer": "ipython3",
   "version": "3.9.12"
  }
 },
 "nbformat": 4,
 "nbformat_minor": 5
}
