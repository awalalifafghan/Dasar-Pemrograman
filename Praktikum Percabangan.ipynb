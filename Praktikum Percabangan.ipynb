{
 "cells": [
  {
   "cell_type": "markdown",
   "id": "243b69b3-f491-4857-8150-6bc5b6ca0574",
   "metadata": {},
   "source": [
    "<h1>MAFIA</h1>"
   ]
  },
  {
   "cell_type": "code",
   "execution_count": 1,
   "id": "71550bbb-6d48-41e8-8e43-397775602a0e",
   "metadata": {},
   "outputs": [
    {
     "name": "stdin",
     "output_type": "stream",
     "text": [
      "Insert name :  Awal Alif Afghan\n",
      "Insert age :  50\n",
      "Insert adress :  Nevada\n",
      "Insert dolloar :  15000000\n"
     ]
    },
    {
     "name": "stdout",
     "output_type": "stream",
     "text": [
      "Awal Alif Afghan kemungkinan adalah seorang anggota mafia dengan pangkat Don\n"
     ]
    }
   ],
   "source": [
    "name = input(\"Insert name : \")\n",
    "age = int(input(\"Insert age : \"))\n",
    "address = input(\"Insert adress : \")\n",
    "dollar = int(input(\"Insert dolloar : \"))\n",
    "\n",
    "pangkat = ''\n",
    "\n",
    "if age >40:\n",
    "    if address == \"Nevada\" or adress == \"New York\" or adress == \"Havana\":\n",
    "        if dollar >10000000:\n",
    "            pangkat = 'Don'\n",
    "elif age >=25 and age <=40:\n",
    "    if adress== \"New Jersey\" or adress== \"Manhattan\" or adress== \"Nevada\":\n",
    "        pangkat = 'Underboss'\n",
    "elif age >= 18 and age <=24:\n",
    "    if adress == \"California\" or adress== \"Detriot\" or adress== \"Boston\":\n",
    "        if dollar <1000000:\n",
    "            pangkat = 'capo'\n",
    "if pangkat !='':\n",
    "    print (f\"{name} kemungkinan adalah seorang anggota mafia dengan pangkat {pangkat}\")\n",
    "else:\n",
    "    print(f\"{name} tidak mencurigakan\")\n",
    "    "
   ]
  }
 ],
 "metadata": {
  "kernelspec": {
   "display_name": "Python 3 (ipykernel)",
   "language": "python",
   "name": "python3"
  },
  "language_info": {
   "codemirror_mode": {
    "name": "ipython",
    "version": 3
   },
   "file_extension": ".py",
   "mimetype": "text/x-python",
   "name": "python",
   "nbconvert_exporter": "python",
   "pygments_lexer": "ipython3",
   "version": "3.11.7"
  }
 },
 "nbformat": 4,
 "nbformat_minor": 5
}
