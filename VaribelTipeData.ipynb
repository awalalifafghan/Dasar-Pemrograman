{
 "cells": [
  {
   "cell_type": "markdown",
   "id": "4041124f",
   "metadata": {},
   "source": [
    "<h1>Variabel dan Tipe Data</h1><hr>\n",
    "Tipe Data pada Python adalah:\n",
    "<ol>\n",
    "    <li>Float -(float)</li>\n",
    "    <li>String -(str)</li>\n",
    "    <li>Bolean -(bool)</li>\n",
    "    <li>Integer -(int)</li>\n",
    "</ol><hr>\n",
    "Aturan penamaan variabel\n",
    "<ul>\n",
    "    <li>Tidak boleh menggunakan spasi</li>\n",
    "    <li>Bersifat case sensitive= A !=a</li>\n",
    "    <li>Terdiri dari huruf,angka dan karakter _ (undesrcore)</li>\n",
    "    <li>Diawali underscore atau huruf</li>\n",
    "    <li>Tidak boleh menggunakan reserved keyword</li>\n",
    "</ul>    "
   ]
  },
  {
   "cell_type": "code",
   "execution_count": 34,
   "id": "577b4052",
   "metadata": {},
   "outputs": [
    {
     "name": "stdout",
     "output_type": "stream",
     "text": [
      "100\n",
      "50.6\n",
      "1\n",
      "True\n"
     ]
    }
   ],
   "source": [
    "data_integer = 100\n",
    "data_float =50.6\n",
    "data_string =\"1\"\n",
    "data_boolean =True\n",
    "\n",
    "data_string\n",
    "print(data_integer)\n",
    "print(data_float)\n",
    "print(data_string)\n",
    "print(data_boolean)\n"
   ]
  },
  {
   "cell_type": "code",
   "execution_count": 35,
   "id": "0814db59",
   "metadata": {},
   "outputs": [
    {
     "name": "stdout",
     "output_type": "stream",
     "text": [
      "<class 'int'>\n",
      "<class 'float'>\n",
      "<class 'str'>\n",
      "<class 'bool'>\n"
     ]
    }
   ],
   "source": [
    "print(type(data_integer))\n",
    "print(type(data_float))\n",
    "print(type(data_string))\n",
    "print(type(data_boolean))"
   ]
  },
  {
   "cell_type": "markdown",
   "id": "dd6f7583",
   "metadata": {},
   "source": [
    "<h3>Konversi Tipe Data dari Integer ke (String,Float,Boolean)</h3>"
   ]
  },
  {
   "cell_type": "code",
   "execution_count": 4,
   "id": "28b6b1c0",
   "metadata": {},
   "outputs": [
    {
     "name": "stdout",
     "output_type": "stream",
     "text": [
      "Isikan Bilangan 1:4\n",
      "Isikan Bilangan 2:5\n",
      "45\n"
     ]
    }
   ],
   "source": [
    "bil1 =input(\"Isikan Bilangan 1:\")\n",
    "bil2 =input(\"Isikan Bilangan 2:\")\n",
    "hasil =bil1 + bil2\n",
    "print(hasil)"
   ]
  },
  {
   "cell_type": "code",
   "execution_count": 37,
   "id": "f10daaf7",
   "metadata": {},
   "outputs": [
    {
     "name": "stdout",
     "output_type": "stream",
     "text": [
      "1\n",
      "50\n",
      "1\n",
      "<class 'int'>\n",
      "<class 'int'>\n",
      "<class 'int'>\n"
     ]
    }
   ],
   "source": [
    "string_to_int = int(data_string)\n",
    "float_to_int = int(data_float)\n",
    "bool_to_int = int(data_boolean)\n",
    "\n",
    "print(string_to_int)\n",
    "print(float_to_int)\n",
    "print(bool_to_int)\n",
    "\n",
    "print(type(string_to_int))\n",
    "print(type(float_to_int))\n",
    "print(type(bool_to_int))"
   ]
  },
  {
   "cell_type": "code",
   "execution_count": 39,
   "id": "dd3f61ec",
   "metadata": {},
   "outputs": [
    {
     "name": "stdout",
     "output_type": "stream",
     "text": [
      "1\n",
      "50.6\n",
      "True\n",
      "<class 'str'>\n",
      "<class 'str'>\n",
      "<class 'str'>\n"
     ]
    }
   ],
   "source": [
    "int_to_str = str(data_string)\n",
    "float_to_str = str(data_float)\n",
    "bool_to_str = str(data_boolean)\n",
    "\n",
    "print(int_to_str)\n",
    "print(float_to_str)\n",
    "print(bool_to_str)\n",
    "\n",
    "print(type(int_to_str))\n",
    "print(type(float_to_str))\n",
    "print(type(bool_to_str))\n"
   ]
  },
  {
   "cell_type": "code",
   "execution_count": 45,
   "id": "d1445f88",
   "metadata": {},
   "outputs": [
    {
     "name": "stdout",
     "output_type": "stream",
     "text": [
      "True\n",
      "True\n",
      "True\n",
      "<class 'bool'>\n",
      "<class 'bool'>\n",
      "<class 'bool'>\n"
     ]
    }
   ],
   "source": [
    "string_to_boolean = bool(data_string)\n",
    "float_to_boolean = bool(data_float)\n",
    "integer_to_boolean = bool(data_integer)\n",
    "\n",
    "print(string_to_boolean)\n",
    "print(float_to_boolean)\n",
    "print(integer_to_boolean)\n",
    "\n",
    "print(type(string_to_boolean))\n",
    "print(type(float_to_boolean))\n",
    "print(type(integer_to_boolean))\n"
   ]
  }
 ],
 "metadata": {
  "kernelspec": {
   "display_name": "Python 3 (ipykernel)",
   "language": "python",
   "name": "python3"
  },
  "language_info": {
   "codemirror_mode": {
    "name": "ipython",
    "version": 3
   },
   "file_extension": ".py",
   "mimetype": "text/x-python",
   "name": "python",
   "nbconvert_exporter": "python",
   "pygments_lexer": "ipython3",
   "version": "3.9.12"
  }
 },
 "nbformat": 4,
 "nbformat_minor": 5
}
