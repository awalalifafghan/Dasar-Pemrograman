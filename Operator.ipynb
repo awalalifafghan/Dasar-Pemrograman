{
 "cells": [
  {
   "cell_type": "markdown",
   "id": "78a886dd",
   "metadata": {},
   "source": [
    "<h1>PENGGUNAAN ARITMATIKA MENGGUNAKAN PYTHON </h1>"
   ]
  },
  {
   "cell_type": "code",
   "execution_count": 3,
   "id": "cdc7330f",
   "metadata": {},
   "outputs": [
    {
     "name": "stdout",
     "output_type": "stream",
     "text": [
      "27\n",
      "13\n",
      "140\n",
      "2.857142857142857\n",
      "2\n",
      "1280000000\n",
      "6\n"
     ]
    }
   ],
   "source": [
    "\n",
    "num1 = 20\n",
    "num2 = 7\n",
    "\n",
    "hasil_jumlah = num1 + num2\n",
    "hasil_kurang = num1 - num2\n",
    "hasil_kali = num1 * num2\n",
    "hasil_bagi = num1 / num2\n",
    "hasil_bagi_bulat = num1 // num2\n",
    "hasil_pangkat = num1 ** num2\n",
    "hasil_modulus = num1 % num2\n",
    "\n",
    "print(hasil_jumlah)\n",
    "print(hasil_kurang)\n",
    "print(hasil_kali)\n",
    "print(hasil_bagi)\n",
    "print(hasil_bagi_bulat)\n",
    "print(hasil_pangkat)\n",
    "print(hasil_modulus)"
   ]
  },
  {
   "cell_type": "markdown",
   "id": "6104a166",
   "metadata": {},
   "source": [
    "<h1> Operator Penugasan </h1>"
   ]
  },
  {
   "cell_type": "code",
   "execution_count": 13,
   "id": "237c336f",
   "metadata": {},
   "outputs": [
    {
     "name": "stdout",
     "output_type": "stream",
     "text": [
      "10\n",
      "15\n",
      "13\n",
      "52\n",
      "10.4\n"
     ]
    }
   ],
   "source": [
    "x = 10\n",
    "print(x)\n",
    "x+=5 #x = x + 5\n",
    "print(x) #15\n",
    "x-= 2 #x = x - 2\n",
    "print(x) #13\n",
    "x*= 4 #x = x * 4\n",
    "print(x) #52\n",
    "x/= 5 #x = x / 5\n",
    "print(x)\n",
    "x\n"
   ]
  },
  {
   "cell_type": "markdown",
   "id": "e12b1b87",
   "metadata": {},
   "source": [
    "<h1> Operator Perbandingan</h1>"
   ]
  },
  {
   "cell_type": "code",
   "execution_count": 14,
   "id": "e98b3e39",
   "metadata": {},
   "outputs": [
    {
     "name": "stdout",
     "output_type": "stream",
     "text": [
      "False\n",
      "True\n",
      "True\n",
      "False\n"
     ]
    }
   ],
   "source": [
    "y = 100\n",
    "z = 50\n",
    "\n",
    "print(y==z) #false\n",
    "print(y!=z) #false\n",
    "print(y>=z) #false\n",
    "print(y<=z) #false\n"
   ]
  },
  {
   "cell_type": "markdown",
   "id": "a31573e9",
   "metadata": {},
   "source": [
    "<h1> Operator Logika</h1>"
   ]
  },
  {
   "cell_type": "code",
   "execution_count": 17,
   "id": "93f5a98b",
   "metadata": {},
   "outputs": [
    {
     "name": "stdout",
     "output_type": "stream",
     "text": [
      "True\n",
      "True\n",
      "False\n"
     ]
    }
   ],
   "source": [
    "val1= 10\n",
    "val2= 5\n",
    "\n",
    "opr_and = val1 > val2 and val1 <13#true\n",
    "opr_or = val1 == 9 or val2 >=5 #true\n",
    "opr_not = not(opr_and and opr_or)#false\n",
    "\n",
    "print(opr_and)\n",
    "print(opr_or)\n",
    "print(opr_not)"
   ]
  },
  {
   "cell_type": "markdown",
   "id": "b0306099",
   "metadata": {},
   "source": [
    "<h1>Operator Identitas</h1>"
   ]
  },
  {
   "cell_type": "code",
   "execution_count": 18,
   "id": "4039c1b6",
   "metadata": {},
   "outputs": [
    {
     "name": "stdout",
     "output_type": "stream",
     "text": [
      "True\n",
      "False\n"
     ]
    }
   ],
   "source": [
    "fruits = [\"Apel\",\"Semangka\",\"Anggur\"]\n",
    "fav_fruits = fruits\n",
    "your_fruits = [\"Apel\",\"Semangka\",\"Anggur\"]\n",
    "\n",
    "print(fav_fruits is fruits)\n",
    "print(fruits is your_fruits)\n"
   ]
  },
  {
   "cell_type": "code",
   "execution_count": 19,
   "id": "4101c133",
   "metadata": {},
   "outputs": [
    {
     "name": "stdout",
     "output_type": "stream",
     "text": [
      "True\n",
      "False\n",
      "True\n"
     ]
    }
   ],
   "source": [
    "fruits = [\"Apel\",\"Semangka\",\"Anggur\"]\n",
    "fav_fruits = fruits\n",
    "your_fruits = [\"Apel\",\"Semangka\",\"Anggur\"]\n",
    "name = \"Alifff\"\n",
    "your_name = \"Alifff\"\n",
    "\n",
    "\n",
    "print(fav_fruits is fruits)\n",
    "print(fruits is your_fruits)\n",
    "print(name is your_name)\n"
   ]
  },
  {
   "cell_type": "markdown",
   "id": "802db02b",
   "metadata": {},
   "source": [
    "<h1>Operator Keanggotaan</h1>"
   ]
  },
  {
   "cell_type": "code",
   "execution_count": 21,
   "id": "503f6811",
   "metadata": {},
   "outputs": [
    {
     "name": "stdout",
     "output_type": "stream",
     "text": [
      "True\n",
      "True\n",
      "False\n",
      "False\n"
     ]
    }
   ],
   "source": [
    "city = [\"Bandung\",\"Jogja\",\"Sukabumi\"]\n",
    "\n",
    "print(\"Bandung\" in city)\n",
    "print(\"Jogja\" in city)\n",
    "print(\"Sukabumi\" not in city)\n",
    "print(\"Malang\" in city and \"Bandung\" not in city)\n"
   ]
  },
  {
   "cell_type": "markdown",
   "id": "470175cf",
   "metadata": {},
   "source": [
    "<h1>Operator Bitwise</h1>"
   ]
  },
  {
   "cell_type": "code",
   "execution_count": 26,
   "id": "dd70ada3",
   "metadata": {},
   "outputs": [
    {
     "name": "stdout",
     "output_type": "stream",
     "text": [
      "15\n",
      "255\n",
      "240\n",
      "256\n",
      "34\n"
     ]
    }
   ],
   "source": [
    "nilai1 = 255\n",
    "nilai2 = 15\n",
    "\n",
    "bit_and = nilai1 & nilai2\n",
    "bit_or = nilai1 | nilai2\n",
    "bit_xor = nilai1 ^ nilai2\n",
    "#11111111 =>255\n",
    "#00001111 =>15\n",
    "#11110000 => 240\n",
    "\n",
    "print(bit_and)\n",
    "print(bit_or)\n",
    "print(bit_xor)\n",
    "\n",
    "#shift left\n",
    "print(128 << 1 )\n",
    "#shift right\n",
    "print(138 >> 2 )\n",
    "\n"
   ]
  },
  {
   "cell_type": "code",
   "execution_count": null,
   "id": "76abd233",
   "metadata": {},
   "outputs": [],
   "source": []
  }
 ],
 "metadata": {
  "kernelspec": {
   "display_name": "Python 3 (ipykernel)",
   "language": "python",
   "name": "python3"
  },
  "language_info": {
   "codemirror_mode": {
    "name": "ipython",
    "version": 3
   },
   "file_extension": ".py",
   "mimetype": "text/x-python",
   "name": "python",
   "nbconvert_exporter": "python",
   "pygments_lexer": "ipython3",
   "version": "3.9.12"
  }
 },
 "nbformat": 4,
 "nbformat_minor": 5
}
